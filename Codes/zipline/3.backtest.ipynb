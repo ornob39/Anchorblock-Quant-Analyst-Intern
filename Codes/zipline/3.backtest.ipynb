{
 "cells": [
  {
   "cell_type": "code",
   "execution_count": 1,
   "metadata": {},
   "outputs": [],
   "source": [
    "import zipline\n",
    "from zipline.api import order_target_percent, record, symbol\n",
    "import pandas as pd\n",
    "import numpy as np\n",
    "import matplotlib.pyplot as plt"
   ]
  },
  {
   "cell_type": "code",
   "execution_count": 3,
   "metadata": {},
   "outputs": [
    {
     "ename": "ValueError",
     "evalue": "no data for bundle 'quantopian-quandl' on or before 2023-04-02 08:10:45.942956+00:00\nmaybe you need to run: $ zipline ingest -b quantopian-quandl",
     "output_type": "error",
     "traceback": [
      "\u001b[0;31m---------------------------------------------------------------------------\u001b[0m",
      "\u001b[0;31mFileNotFoundError\u001b[0m                         Traceback (most recent call last)",
      "File \u001b[0;32m~/miniconda3/lib/python3.10/site-packages/zipline/data/bundles/core.py:488\u001b[0m, in \u001b[0;36m_make_bundle_core.<locals>.most_recent_data\u001b[0;34m(bundle_name, timestamp, environ)\u001b[0m\n\u001b[1;32m    487\u001b[0m \u001b[39mtry\u001b[39;00m:\n\u001b[0;32m--> 488\u001b[0m     candidates \u001b[39m=\u001b[39m os\u001b[39m.\u001b[39;49mlistdir(\n\u001b[1;32m    489\u001b[0m         pth\u001b[39m.\u001b[39;49mdata_path([bundle_name], environ\u001b[39m=\u001b[39;49menviron),\n\u001b[1;32m    490\u001b[0m     )\n\u001b[1;32m    491\u001b[0m     \u001b[39mreturn\u001b[39;00m pth\u001b[39m.\u001b[39mdata_path(\n\u001b[1;32m    492\u001b[0m         [\n\u001b[1;32m    493\u001b[0m             bundle_name,\n\u001b[0;32m   (...)\u001b[0m\n\u001b[1;32m    499\u001b[0m         environ\u001b[39m=\u001b[39menviron,\n\u001b[1;32m    500\u001b[0m     )\n",
      "\u001b[0;31mFileNotFoundError\u001b[0m: [Errno 2] No such file or directory: '/home/shell007/.zipline/data/quantopian-quandl'",
      "\nDuring handling of the above exception, another exception occurred:\n",
      "\u001b[0;31mValueError\u001b[0m                                Traceback (most recent call last)",
      "Cell \u001b[0;32mIn[3], line 39\u001b[0m\n\u001b[1;32m     35\u001b[0m capital_base \u001b[39m=\u001b[39m \u001b[39m10000\u001b[39m\n\u001b[1;32m     36\u001b[0m benchmark_symbol \u001b[39m=\u001b[39m \u001b[39m'\u001b[39m\u001b[39m^GSPC\u001b[39m\u001b[39m'\u001b[39m\n\u001b[0;32m---> 39\u001b[0m result \u001b[39m=\u001b[39m zipline\u001b[39m.\u001b[39;49mrun_algorithm(start\u001b[39m=\u001b[39;49mstart_date, end\u001b[39m=\u001b[39;49mend_date, initialize\u001b[39m=\u001b[39;49minitialize, capital_base\u001b[39m=\u001b[39;49mcapital_base, handle_data\u001b[39m=\u001b[39;49mhandle_data)\n\u001b[1;32m     40\u001b[0m result[[\u001b[39m'\u001b[39m\u001b[39mmacd\u001b[39m\u001b[39m'\u001b[39m, \u001b[39m'\u001b[39m\u001b[39msignal\u001b[39m\u001b[39m'\u001b[39m]]\u001b[39m.\u001b[39mplot()\n\u001b[1;32m     41\u001b[0m plt\u001b[39m.\u001b[39mshow()\n",
      "File \u001b[0;32m~/miniconda3/lib/python3.10/site-packages/zipline/utils/run_algo.py:397\u001b[0m, in \u001b[0;36mrun_algorithm\u001b[0;34m(start, end, initialize, capital_base, handle_data, before_trading_start, analyze, data_frequency, bundle, bundle_timestamp, trading_calendar, metrics_set, benchmark_returns, default_extension, extensions, strict_extensions, environ, custom_loader, blotter)\u001b[0m\n\u001b[1;32m    393\u001b[0m load_extensions(default_extension, extensions, strict_extensions, environ)\n\u001b[1;32m    395\u001b[0m benchmark_spec \u001b[39m=\u001b[39m BenchmarkSpec\u001b[39m.\u001b[39mfrom_returns(benchmark_returns)\n\u001b[0;32m--> 397\u001b[0m \u001b[39mreturn\u001b[39;00m _run(\n\u001b[1;32m    398\u001b[0m     handle_data\u001b[39m=\u001b[39;49mhandle_data,\n\u001b[1;32m    399\u001b[0m     initialize\u001b[39m=\u001b[39;49minitialize,\n\u001b[1;32m    400\u001b[0m     before_trading_start\u001b[39m=\u001b[39;49mbefore_trading_start,\n\u001b[1;32m    401\u001b[0m     analyze\u001b[39m=\u001b[39;49manalyze,\n\u001b[1;32m    402\u001b[0m     algofile\u001b[39m=\u001b[39;49m\u001b[39mNone\u001b[39;49;00m,\n\u001b[1;32m    403\u001b[0m     algotext\u001b[39m=\u001b[39;49m\u001b[39mNone\u001b[39;49;00m,\n\u001b[1;32m    404\u001b[0m     defines\u001b[39m=\u001b[39;49m(),\n\u001b[1;32m    405\u001b[0m     data_frequency\u001b[39m=\u001b[39;49mdata_frequency,\n\u001b[1;32m    406\u001b[0m     capital_base\u001b[39m=\u001b[39;49mcapital_base,\n\u001b[1;32m    407\u001b[0m     bundle\u001b[39m=\u001b[39;49mbundle,\n\u001b[1;32m    408\u001b[0m     bundle_timestamp\u001b[39m=\u001b[39;49mbundle_timestamp,\n\u001b[1;32m    409\u001b[0m     start\u001b[39m=\u001b[39;49mstart,\n\u001b[1;32m    410\u001b[0m     end\u001b[39m=\u001b[39;49mend,\n\u001b[1;32m    411\u001b[0m     output\u001b[39m=\u001b[39;49mos\u001b[39m.\u001b[39;49mdevnull,\n\u001b[1;32m    412\u001b[0m     trading_calendar\u001b[39m=\u001b[39;49mtrading_calendar,\n\u001b[1;32m    413\u001b[0m     print_algo\u001b[39m=\u001b[39;49m\u001b[39mFalse\u001b[39;49;00m,\n\u001b[1;32m    414\u001b[0m     metrics_set\u001b[39m=\u001b[39;49mmetrics_set,\n\u001b[1;32m    415\u001b[0m     local_namespace\u001b[39m=\u001b[39;49m\u001b[39mFalse\u001b[39;49;00m,\n\u001b[1;32m    416\u001b[0m     environ\u001b[39m=\u001b[39;49menviron,\n\u001b[1;32m    417\u001b[0m     blotter\u001b[39m=\u001b[39;49mblotter,\n\u001b[1;32m    418\u001b[0m     custom_loader\u001b[39m=\u001b[39;49mcustom_loader,\n\u001b[1;32m    419\u001b[0m     benchmark_spec\u001b[39m=\u001b[39;49mbenchmark_spec,\n\u001b[1;32m    420\u001b[0m )\n",
      "File \u001b[0;32m~/miniconda3/lib/python3.10/site-packages/zipline/utils/run_algo.py:93\u001b[0m, in \u001b[0;36m_run\u001b[0;34m(handle_data, initialize, before_trading_start, analyze, algofile, algotext, defines, data_frequency, capital_base, bundle, bundle_timestamp, start, end, output, trading_calendar, print_algo, metrics_set, local_namespace, environ, blotter, custom_loader, benchmark_spec)\u001b[0m\n\u001b[1;32m     64\u001b[0m \u001b[39mdef\u001b[39;00m \u001b[39m_run\u001b[39m(\n\u001b[1;32m     65\u001b[0m     handle_data,\n\u001b[1;32m     66\u001b[0m     initialize,\n\u001b[0;32m   (...)\u001b[0m\n\u001b[1;32m     86\u001b[0m     benchmark_spec,\n\u001b[1;32m     87\u001b[0m ):\n\u001b[1;32m     88\u001b[0m \u001b[39m    \u001b[39m\u001b[39m\"\"\"Run a backtest for the given algorithm.\u001b[39;00m\n\u001b[1;32m     89\u001b[0m \n\u001b[1;32m     90\u001b[0m \u001b[39m    This is shared between the cli and :func:`zipline.run_algo`.\u001b[39;00m\n\u001b[1;32m     91\u001b[0m \u001b[39m    \"\"\"\u001b[39;00m\n\u001b[0;32m---> 93\u001b[0m     bundle_data \u001b[39m=\u001b[39m bundles\u001b[39m.\u001b[39;49mload(\n\u001b[1;32m     94\u001b[0m         bundle,\n\u001b[1;32m     95\u001b[0m         environ,\n\u001b[1;32m     96\u001b[0m         bundle_timestamp,\n\u001b[1;32m     97\u001b[0m     )\n\u001b[1;32m     99\u001b[0m     \u001b[39mif\u001b[39;00m trading_calendar \u001b[39mis\u001b[39;00m \u001b[39mNone\u001b[39;00m:\n\u001b[1;32m    100\u001b[0m         trading_calendar \u001b[39m=\u001b[39m get_calendar(\u001b[39m\"\u001b[39m\u001b[39mXNYS\u001b[39m\u001b[39m\"\u001b[39m)\n",
      "File \u001b[0;32m~/miniconda3/lib/python3.10/site-packages/zipline/data/bundles/core.py:532\u001b[0m, in \u001b[0;36m_make_bundle_core.<locals>.load\u001b[0;34m(name, environ, timestamp)\u001b[0m\n\u001b[1;32m    530\u001b[0m \u001b[39mif\u001b[39;00m timestamp \u001b[39mis\u001b[39;00m \u001b[39mNone\u001b[39;00m:\n\u001b[1;32m    531\u001b[0m     timestamp \u001b[39m=\u001b[39m pd\u001b[39m.\u001b[39mTimestamp\u001b[39m.\u001b[39mutcnow()\n\u001b[0;32m--> 532\u001b[0m timestr \u001b[39m=\u001b[39m most_recent_data(name, timestamp, environ\u001b[39m=\u001b[39;49menviron)\n\u001b[1;32m    533\u001b[0m \u001b[39mreturn\u001b[39;00m BundleData(\n\u001b[1;32m    534\u001b[0m     asset_finder\u001b[39m=\u001b[39mAssetFinder(\n\u001b[1;32m    535\u001b[0m         asset_db_path(name, timestr, environ\u001b[39m=\u001b[39menviron),\n\u001b[0;32m   (...)\u001b[0m\n\u001b[1;32m    545\u001b[0m     ),\n\u001b[1;32m    546\u001b[0m )\n",
      "File \u001b[0;32m~/miniconda3/lib/python3.10/site-packages/zipline/data/bundles/core.py:504\u001b[0m, in \u001b[0;36m_make_bundle_core.<locals>.most_recent_data\u001b[0;34m(bundle_name, timestamp, environ)\u001b[0m\n\u001b[1;32m    502\u001b[0m \u001b[39mif\u001b[39;00m \u001b[39mgetattr\u001b[39m(e, \u001b[39m\"\u001b[39m\u001b[39merrno\u001b[39m\u001b[39m\"\u001b[39m, errno\u001b[39m.\u001b[39mENOENT) \u001b[39m!=\u001b[39m errno\u001b[39m.\u001b[39mENOENT:\n\u001b[1;32m    503\u001b[0m     \u001b[39mraise\u001b[39;00m\n\u001b[0;32m--> 504\u001b[0m \u001b[39mraise\u001b[39;00m \u001b[39mValueError\u001b[39;00m(\n\u001b[1;32m    505\u001b[0m     \u001b[39m\"\u001b[39m\u001b[39mno data for bundle \u001b[39m\u001b[39m{bundle!r}\u001b[39;00m\u001b[39m on or before \u001b[39m\u001b[39m{timestamp}\u001b[39;00m\u001b[39m\\n\u001b[39;00m\u001b[39m\"\u001b[39m\n\u001b[1;32m    506\u001b[0m     \u001b[39m\"\u001b[39m\u001b[39mmaybe you need to run: $ zipline ingest -b \u001b[39m\u001b[39m{bundle}\u001b[39;00m\u001b[39m\"\u001b[39m\u001b[39m.\u001b[39mformat(\n\u001b[1;32m    507\u001b[0m         bundle\u001b[39m=\u001b[39mbundle_name,\n\u001b[1;32m    508\u001b[0m         timestamp\u001b[39m=\u001b[39mtimestamp,\n\u001b[1;32m    509\u001b[0m     ),\n\u001b[1;32m    510\u001b[0m )\n",
      "\u001b[0;31mValueError\u001b[0m: no data for bundle 'quantopian-quandl' on or before 2023-04-02 08:10:45.942956+00:00\nmaybe you need to run: $ zipline ingest -b quantopian-quandl"
     ]
    }
   ],
   "source": [
    "from matplotlib import pyplot as plt\n",
    "from numpy import record\n",
    "import pandas as pd\n",
    "import zipline\n",
    "\n",
    "\n",
    "def initialize(context):\n",
    "    context.asset = symbol('AAPL')\n",
    "    context.i = 0\n",
    "    context.macd_threshold = 0\n",
    "    \n",
    "    \n",
    "def handle_data(context, data):\n",
    "    context.i += 1\n",
    "    if context.i < 365:\n",
    "        return\n",
    "    \n",
    "    prices = data.history(context.asset, 'price', bar_count=365, frequency='1d')\n",
    "    ema12 = prices.ewm(span = 12, adjust = False).mean()\n",
    "    ema26 = prices.ewm(span = 26, adjust = False).mean()\n",
    "    macd = ema12 - ema26\n",
    "    signal = macd.ewm(span = 9, adjust = False).mean()\n",
    "    diff = macd - signal\n",
    "    \n",
    "    \n",
    "    if diff[-1] > context.macd_threshold:\n",
    "        order_target_percent(context.asset, 1)\n",
    "    elif diff[-1] < context.macd_threshold:\n",
    "        order_target_percent(context.asset, 0)\n",
    "    \n",
    "    record(macd = macd[-1], signal = signal[-1])\n",
    "    \n",
    "start_date = pd.Timestamp('2022-01-01', tz='utc')\n",
    "end_date = pd.Timestamp('2022-12-31', tz='utc')\n",
    "capital_base = 10000\n",
    "benchmark_symbol = '^GSPC'\n",
    "\n",
    "\n",
    "result = zipline.run_algorithm(start=start_date, end=end_date, initialize=initialize, capital_base=capital_base, handle_data=handle_data)\n",
    "result[['macd', 'signal']].plot()\n",
    "plt.show()"
   ]
  },
  {
   "cell_type": "code",
   "execution_count": null,
   "metadata": {},
   "outputs": [],
   "source": []
  }
 ],
 "metadata": {
  "kernelspec": {
   "display_name": "base",
   "language": "python",
   "name": "python3"
  },
  "language_info": {
   "codemirror_mode": {
    "name": "ipython",
    "version": 3
   },
   "file_extension": ".py",
   "mimetype": "text/x-python",
   "name": "python",
   "nbconvert_exporter": "python",
   "pygments_lexer": "ipython3",
   "version": "3.10.9"
  },
  "orig_nbformat": 4
 },
 "nbformat": 4,
 "nbformat_minor": 2
}
