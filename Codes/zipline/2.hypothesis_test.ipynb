{
 "cells": [
  {
   "cell_type": "code",
   "execution_count": 13,
   "metadata": {},
   "outputs": [],
   "source": [
    "import pandas as pd\n",
    "import numpy as np\n",
    "from scipy.stats import ttest_ind"
   ]
  },
  {
   "cell_type": "code",
   "execution_count": 14,
   "metadata": {},
   "outputs": [],
   "source": [
    "df = pd.read_csv('btc_ohlv_macd.csv')"
   ]
  },
  {
   "cell_type": "code",
   "execution_count": 15,
   "metadata": {},
   "outputs": [
    {
     "data": {
      "text/html": [
       "<div>\n",
       "<style scoped>\n",
       "    .dataframe tbody tr th:only-of-type {\n",
       "        vertical-align: middle;\n",
       "    }\n",
       "\n",
       "    .dataframe tbody tr th {\n",
       "        vertical-align: top;\n",
       "    }\n",
       "\n",
       "    .dataframe thead th {\n",
       "        text-align: right;\n",
       "    }\n",
       "</style>\n",
       "<table border=\"1\" class=\"dataframe\">\n",
       "  <thead>\n",
       "    <tr style=\"text-align: right;\">\n",
       "      <th></th>\n",
       "      <th>date</th>\n",
       "      <th>open</th>\n",
       "      <th>high</th>\n",
       "      <th>low</th>\n",
       "      <th>close</th>\n",
       "      <th>volume</th>\n",
       "      <th>macd</th>\n",
       "      <th>signal</th>\n",
       "      <th>hist</th>\n",
       "    </tr>\n",
       "  </thead>\n",
       "  <tbody>\n",
       "    <tr>\n",
       "      <th>0</th>\n",
       "      <td>2022-04-03</td>\n",
       "      <td>45810.99</td>\n",
       "      <td>47444.11</td>\n",
       "      <td>45530.92</td>\n",
       "      <td>46407.35</td>\n",
       "      <td>33394.67794</td>\n",
       "      <td>0.000000</td>\n",
       "      <td>0.000000</td>\n",
       "      <td>0.000000</td>\n",
       "    </tr>\n",
       "    <tr>\n",
       "      <th>1</th>\n",
       "      <td>2022-04-04</td>\n",
       "      <td>46407.36</td>\n",
       "      <td>46890.71</td>\n",
       "      <td>45118.00</td>\n",
       "      <td>46580.51</td>\n",
       "      <td>44641.87514</td>\n",
       "      <td>13.813333</td>\n",
       "      <td>2.762667</td>\n",
       "      <td>11.050667</td>\n",
       "    </tr>\n",
       "    <tr>\n",
       "      <th>2</th>\n",
       "      <td>2022-04-05</td>\n",
       "      <td>46580.50</td>\n",
       "      <td>47200.00</td>\n",
       "      <td>45353.81</td>\n",
       "      <td>45497.55</td>\n",
       "      <td>42192.74852</td>\n",
       "      <td>-61.911643</td>\n",
       "      <td>-10.172195</td>\n",
       "      <td>-51.739448</td>\n",
       "    </tr>\n",
       "    <tr>\n",
       "      <th>3</th>\n",
       "      <td>2022-04-06</td>\n",
       "      <td>45497.54</td>\n",
       "      <td>45507.14</td>\n",
       "      <td>43121.00</td>\n",
       "      <td>43170.47</td>\n",
       "      <td>60849.32936</td>\n",
       "      <td>-306.170794</td>\n",
       "      <td>-69.371915</td>\n",
       "      <td>-236.798879</td>\n",
       "    </tr>\n",
       "    <tr>\n",
       "      <th>4</th>\n",
       "      <td>2022-04-07</td>\n",
       "      <td>43170.47</td>\n",
       "      <td>43900.99</td>\n",
       "      <td>42727.35</td>\n",
       "      <td>43444.19</td>\n",
       "      <td>37396.54156</td>\n",
       "      <td>-472.217584</td>\n",
       "      <td>-149.941049</td>\n",
       "      <td>-322.276535</td>\n",
       "    </tr>\n",
       "  </tbody>\n",
       "</table>\n",
       "</div>"
      ],
      "text/plain": [
       "         date      open      high       low     close       volume  \\\n",
       "0  2022-04-03  45810.99  47444.11  45530.92  46407.35  33394.67794   \n",
       "1  2022-04-04  46407.36  46890.71  45118.00  46580.51  44641.87514   \n",
       "2  2022-04-05  46580.50  47200.00  45353.81  45497.55  42192.74852   \n",
       "3  2022-04-06  45497.54  45507.14  43121.00  43170.47  60849.32936   \n",
       "4  2022-04-07  43170.47  43900.99  42727.35  43444.19  37396.54156   \n",
       "\n",
       "         macd      signal        hist  \n",
       "0    0.000000    0.000000    0.000000  \n",
       "1   13.813333    2.762667   11.050667  \n",
       "2  -61.911643  -10.172195  -51.739448  \n",
       "3 -306.170794  -69.371915 -236.798879  \n",
       "4 -472.217584 -149.941049 -322.276535  "
      ]
     },
     "execution_count": 15,
     "metadata": {},
     "output_type": "execute_result"
    }
   ],
   "source": [
    "df.head()"
   ]
  },
  {
   "cell_type": "code",
   "execution_count": 16,
   "metadata": {},
   "outputs": [
    {
     "data": {
      "text/plain": [
       "(365, 9)"
      ]
     },
     "execution_count": 16,
     "metadata": {},
     "output_type": "execute_result"
    }
   ],
   "source": [
    "df.shape"
   ]
  },
  {
   "cell_type": "code",
   "execution_count": 17,
   "metadata": {},
   "outputs": [],
   "source": [
    "ema_12 = df['close'].ewm(span=12, adjust=False).mean()\n",
    "ema_26 = df['close'].ewm(span=26, adjust=False).mean()\n",
    "macd = ema_12 - ema_26\n",
    "signal = macd.ewm(span=9, adjust=False).mean()"
   ]
  },
  {
   "cell_type": "code",
   "execution_count": 18,
   "metadata": {},
   "outputs": [],
   "source": [
    "bullish = macd[macd > signal]\n",
    "bearish = macd[macd < signal]"
   ]
  },
  {
   "cell_type": "code",
   "execution_count": 19,
   "metadata": {},
   "outputs": [],
   "source": [
    "t_stat, p_value = ttest_ind(bullish, bearish)"
   ]
  },
  {
   "cell_type": "code",
   "execution_count": 20,
   "metadata": {},
   "outputs": [
    {
     "name": "stdout",
     "output_type": "stream",
     "text": [
      "Reject the null hypothesis\n",
      "There is a statistically significant difference between the bullish and bearish MACD values.\n"
     ]
    }
   ],
   "source": [
    "alpha = 0.05\n",
    "if p_value <= alpha:\n",
    "    print('Reject the null hypothesis')\n",
    "    print(\"There is a statistically significant difference between the bullish and bearish MACD values.\")\n",
    "else:\n",
    "    print('Fail to reject the null hypothesis')\n",
    "    print(\"There is not enough evidence to reject the null hypothesis that the mean bullish and bearish MACD values are equal.\")\n"
   ]
  },
  {
   "cell_type": "code",
   "execution_count": null,
   "metadata": {},
   "outputs": [],
   "source": []
  }
 ],
 "metadata": {
  "kernelspec": {
   "display_name": "base",
   "language": "python",
   "name": "python3"
  },
  "language_info": {
   "codemirror_mode": {
    "name": "ipython",
    "version": 3
   },
   "file_extension": ".py",
   "mimetype": "text/x-python",
   "name": "python",
   "nbconvert_exporter": "python",
   "pygments_lexer": "ipython3",
   "version": "3.10.9"
  },
  "orig_nbformat": 4
 },
 "nbformat": 4,
 "nbformat_minor": 2
}
