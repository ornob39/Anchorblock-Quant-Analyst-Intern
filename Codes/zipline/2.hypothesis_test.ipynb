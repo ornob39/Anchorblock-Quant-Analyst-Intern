{
 "cells": [
  {
   "cell_type": "code",
   "execution_count": 1,
   "metadata": {},
   "outputs": [],
   "source": [
    "import pandas as pd\n",
    "import numpy as np\n",
    "from scipy.stats import ttest_ind"
   ]
  },
  {
   "cell_type": "code",
   "execution_count": 2,
   "metadata": {},
   "outputs": [],
   "source": [
    "df = pd.read_csv('BTC.csv')"
   ]
  },
  {
   "cell_type": "code",
   "execution_count": 3,
   "metadata": {},
   "outputs": [
    {
     "data": {
      "text/html": [
       "<div>\n",
       "<style scoped>\n",
       "    .dataframe tbody tr th:only-of-type {\n",
       "        vertical-align: middle;\n",
       "    }\n",
       "\n",
       "    .dataframe tbody tr th {\n",
       "        vertical-align: top;\n",
       "    }\n",
       "\n",
       "    .dataframe thead th {\n",
       "        text-align: right;\n",
       "    }\n",
       "</style>\n",
       "<table border=\"1\" class=\"dataframe\">\n",
       "  <thead>\n",
       "    <tr style=\"text-align: right;\">\n",
       "      <th></th>\n",
       "      <th>timestamp</th>\n",
       "      <th>open</th>\n",
       "      <th>high</th>\n",
       "      <th>low</th>\n",
       "      <th>close</th>\n",
       "      <th>volume</th>\n",
       "    </tr>\n",
       "  </thead>\n",
       "  <tbody>\n",
       "    <tr>\n",
       "      <th>0</th>\n",
       "      <td>2021-08-20 00:00:00+00:00</td>\n",
       "      <td>46761.49</td>\n",
       "      <td>49377.50</td>\n",
       "      <td>46652.00</td>\n",
       "      <td>49336.45</td>\n",
       "      <td>1.742574e+09</td>\n",
       "    </tr>\n",
       "    <tr>\n",
       "      <th>1</th>\n",
       "      <td>2021-08-21 00:00:00+00:00</td>\n",
       "      <td>49336.45</td>\n",
       "      <td>49809.82</td>\n",
       "      <td>48330.03</td>\n",
       "      <td>48867.87</td>\n",
       "      <td>1.125509e+09</td>\n",
       "    </tr>\n",
       "    <tr>\n",
       "      <th>2</th>\n",
       "      <td>2021-08-22 00:00:00+00:00</td>\n",
       "      <td>48867.87</td>\n",
       "      <td>49512.19</td>\n",
       "      <td>48119.98</td>\n",
       "      <td>49289.71</td>\n",
       "      <td>8.223239e+08</td>\n",
       "    </tr>\n",
       "    <tr>\n",
       "      <th>3</th>\n",
       "      <td>2021-08-23 00:00:00+00:00</td>\n",
       "      <td>49289.71</td>\n",
       "      <td>50513.83</td>\n",
       "      <td>49048.25</td>\n",
       "      <td>49521.06</td>\n",
       "      <td>1.515250e+09</td>\n",
       "    </tr>\n",
       "    <tr>\n",
       "      <th>4</th>\n",
       "      <td>2021-08-24 00:00:00+00:00</td>\n",
       "      <td>49521.06</td>\n",
       "      <td>49859.97</td>\n",
       "      <td>47580.66</td>\n",
       "      <td>47690.54</td>\n",
       "      <td>1.399186e+09</td>\n",
       "    </tr>\n",
       "  </tbody>\n",
       "</table>\n",
       "</div>"
      ],
      "text/plain": [
       "                   timestamp      open      high       low     close  \\\n",
       "0  2021-08-20 00:00:00+00:00  46761.49  49377.50  46652.00  49336.45   \n",
       "1  2021-08-21 00:00:00+00:00  49336.45  49809.82  48330.03  48867.87   \n",
       "2  2021-08-22 00:00:00+00:00  48867.87  49512.19  48119.98  49289.71   \n",
       "3  2021-08-23 00:00:00+00:00  49289.71  50513.83  49048.25  49521.06   \n",
       "4  2021-08-24 00:00:00+00:00  49521.06  49859.97  47580.66  47690.54   \n",
       "\n",
       "         volume  \n",
       "0  1.742574e+09  \n",
       "1  1.125509e+09  \n",
       "2  8.223239e+08  \n",
       "3  1.515250e+09  \n",
       "4  1.399186e+09  "
      ]
     },
     "execution_count": 3,
     "metadata": {},
     "output_type": "execute_result"
    }
   ],
   "source": [
    "df.head()"
   ]
  },
  {
   "cell_type": "code",
   "execution_count": 4,
   "metadata": {},
   "outputs": [
    {
     "data": {
      "text/plain": [
       "(366, 6)"
      ]
     },
     "execution_count": 4,
     "metadata": {},
     "output_type": "execute_result"
    }
   ],
   "source": [
    "df.shape"
   ]
  },
  {
   "cell_type": "code",
   "execution_count": 5,
   "metadata": {},
   "outputs": [],
   "source": [
    "ema_12 = df['close'].ewm(span=1, adjust=False).mean()\n",
    "ema_26 = df['close'].ewm(span=7, adjust=False).mean()\n",
    "macd = ema_12 - ema_26\n",
    "signal = macd.ewm(span=3, adjust=False).mean()"
   ]
  },
  {
   "cell_type": "code",
   "execution_count": 6,
   "metadata": {},
   "outputs": [],
   "source": [
    "bullish = macd[macd > signal]\n",
    "bearish = macd[macd < signal]"
   ]
  },
  {
   "cell_type": "code",
   "execution_count": 7,
   "metadata": {},
   "outputs": [],
   "source": [
    "t_stat, p_value = ttest_ind(bullish, bearish)"
   ]
  },
  {
   "cell_type": "code",
   "execution_count": 8,
   "metadata": {},
   "outputs": [
    {
     "name": "stdout",
     "output_type": "stream",
     "text": [
      "Reject the null hypothesis\n",
      "There is a statistically significant difference between the bullish and bearish MACD values.\n"
     ]
    }
   ],
   "source": [
    "alpha = 0.05\n",
    "if p_value <= alpha:\n",
    "    print('Reject the null hypothesis')\n",
    "    print(\"There is a statistically significant difference between the bullish and bearish MACD values.\")\n",
    "else:\n",
    "    print('Fail to reject the null hypothesis')\n",
    "    print(\"There is not enough evidence to reject the null hypothesis that the mean bullish and bearish MACD values are equal.\")\n"
   ]
  },
  {
   "cell_type": "code",
   "execution_count": null,
   "metadata": {},
   "outputs": [],
   "source": []
  }
 ],
 "metadata": {
  "kernelspec": {
   "display_name": "base",
   "language": "python",
   "name": "python3"
  },
  "language_info": {
   "codemirror_mode": {
    "name": "ipython",
    "version": 3
   },
   "file_extension": ".py",
   "mimetype": "text/x-python",
   "name": "python",
   "nbconvert_exporter": "python",
   "pygments_lexer": "ipython3",
   "version": "3.9.0"
  },
  "orig_nbformat": 4
 },
 "nbformat": 4,
 "nbformat_minor": 2
}
