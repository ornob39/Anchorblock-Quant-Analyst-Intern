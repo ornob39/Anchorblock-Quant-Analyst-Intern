{
 "cells": [
  {
   "cell_type": "code",
   "execution_count": 9,
   "metadata": {},
   "outputs": [
    {
     "name": "stdout",
     "output_type": "stream",
     "text": [
      "The autoreload extension is already loaded. To reload it, use:\n",
      "  %reload_ext autoreload\n"
     ]
    }
   ],
   "source": [
    "import numpy as np\n",
    "import pandas as pd\n",
    "import matplotlib.pyplot as plt\n",
    "import edhec_risk_kit as erk\n",
    "import scipy.stats\n",
    "%matplotlib inline\n",
    "%load_ext autoreload\n",
    "%autoreload 2"
   ]
  },
  {
   "cell_type": "code",
   "execution_count": 3,
   "metadata": {},
   "outputs": [
    {
     "name": "stderr",
     "output_type": "stream",
     "text": [
      "c:\\Users\\ornob\\OneDrive\\Workplace\\Anchorblock Quant Analyst Intern\\Resources\\Coursera\\Introduction to Portfolio Construction and Analysis with Python\\W1\\edhec_risk_kit.py:39: UserWarning: Parsing dates in DD/MM/YYYY format when dayfirst=False (the default) was specified. This may lead to inconsistently parsed dates! Specify a format to ensure consistent parsing.\n",
      "  hfi = pd.read_csv(\n"
     ]
    },
    {
     "data": {
      "text/html": [
       "<div>\n",
       "<style scoped>\n",
       "    .dataframe tbody tr th:only-of-type {\n",
       "        vertical-align: middle;\n",
       "    }\n",
       "\n",
       "    .dataframe tbody tr th {\n",
       "        vertical-align: top;\n",
       "    }\n",
       "\n",
       "    .dataframe thead th {\n",
       "        text-align: right;\n",
       "    }\n",
       "</style>\n",
       "<table border=\"1\" class=\"dataframe\">\n",
       "  <thead>\n",
       "    <tr style=\"text-align: right;\">\n",
       "      <th></th>\n",
       "      <th>Convertible Arbitrage</th>\n",
       "      <th>CTA Global</th>\n",
       "      <th>Distressed Securities</th>\n",
       "      <th>Emerging Markets</th>\n",
       "      <th>Equity Market Neutral</th>\n",
       "      <th>Event Driven</th>\n",
       "      <th>Fixed Income Arbitrage</th>\n",
       "      <th>Global Macro</th>\n",
       "      <th>Long/Short Equity</th>\n",
       "      <th>Merger Arbitrage</th>\n",
       "      <th>Relative Value</th>\n",
       "      <th>Short Selling</th>\n",
       "      <th>Funds Of Funds</th>\n",
       "    </tr>\n",
       "    <tr>\n",
       "      <th>date</th>\n",
       "      <th></th>\n",
       "      <th></th>\n",
       "      <th></th>\n",
       "      <th></th>\n",
       "      <th></th>\n",
       "      <th></th>\n",
       "      <th></th>\n",
       "      <th></th>\n",
       "      <th></th>\n",
       "      <th></th>\n",
       "      <th></th>\n",
       "      <th></th>\n",
       "      <th></th>\n",
       "    </tr>\n",
       "  </thead>\n",
       "  <tbody>\n",
       "    <tr>\n",
       "      <th>1997-01</th>\n",
       "      <td>0.0119</td>\n",
       "      <td>0.0393</td>\n",
       "      <td>0.0178</td>\n",
       "      <td>0.0791</td>\n",
       "      <td>0.0189</td>\n",
       "      <td>0.0213</td>\n",
       "      <td>0.0191</td>\n",
       "      <td>0.0573</td>\n",
       "      <td>0.0281</td>\n",
       "      <td>0.0150</td>\n",
       "      <td>0.0180</td>\n",
       "      <td>-0.0166</td>\n",
       "      <td>0.0317</td>\n",
       "    </tr>\n",
       "    <tr>\n",
       "      <th>1997-02</th>\n",
       "      <td>0.0123</td>\n",
       "      <td>0.0298</td>\n",
       "      <td>0.0122</td>\n",
       "      <td>0.0525</td>\n",
       "      <td>0.0101</td>\n",
       "      <td>0.0084</td>\n",
       "      <td>0.0122</td>\n",
       "      <td>0.0175</td>\n",
       "      <td>-0.0006</td>\n",
       "      <td>0.0034</td>\n",
       "      <td>0.0118</td>\n",
       "      <td>0.0426</td>\n",
       "      <td>0.0106</td>\n",
       "    </tr>\n",
       "    <tr>\n",
       "      <th>1997-03</th>\n",
       "      <td>0.0078</td>\n",
       "      <td>-0.0021</td>\n",
       "      <td>-0.0012</td>\n",
       "      <td>-0.0120</td>\n",
       "      <td>0.0016</td>\n",
       "      <td>-0.0023</td>\n",
       "      <td>0.0109</td>\n",
       "      <td>-0.0119</td>\n",
       "      <td>-0.0084</td>\n",
       "      <td>0.0060</td>\n",
       "      <td>0.0010</td>\n",
       "      <td>0.0778</td>\n",
       "      <td>-0.0077</td>\n",
       "    </tr>\n",
       "  </tbody>\n",
       "</table>\n",
       "</div>"
      ],
      "text/plain": [
       "         Convertible Arbitrage  CTA Global  Distressed Securities  \\\n",
       "date                                                                \n",
       "1997-01                 0.0119      0.0393                 0.0178   \n",
       "1997-02                 0.0123      0.0298                 0.0122   \n",
       "1997-03                 0.0078     -0.0021                -0.0012   \n",
       "\n",
       "         Emerging Markets  Equity Market Neutral  Event Driven  \\\n",
       "date                                                             \n",
       "1997-01            0.0791                 0.0189        0.0213   \n",
       "1997-02            0.0525                 0.0101        0.0084   \n",
       "1997-03           -0.0120                 0.0016       -0.0023   \n",
       "\n",
       "         Fixed Income Arbitrage  Global Macro  Long/Short Equity  \\\n",
       "date                                                               \n",
       "1997-01                  0.0191        0.0573             0.0281   \n",
       "1997-02                  0.0122        0.0175            -0.0006   \n",
       "1997-03                  0.0109       -0.0119            -0.0084   \n",
       "\n",
       "         Merger Arbitrage  Relative Value  Short Selling  Funds Of Funds  \n",
       "date                                                                      \n",
       "1997-01            0.0150          0.0180        -0.0166          0.0317  \n",
       "1997-02            0.0034          0.0118         0.0426          0.0106  \n",
       "1997-03            0.0060          0.0010         0.0778         -0.0077  "
      ]
     },
     "execution_count": 3,
     "metadata": {},
     "output_type": "execute_result"
    }
   ],
   "source": [
    "hfi = erk.get_hfi_returns()\n",
    "hfi.head(3)"
   ]
  },
  {
   "cell_type": "code",
   "execution_count": 7,
   "metadata": {},
   "outputs": [
    {
     "data": {
      "text/html": [
       "<div>\n",
       "<style scoped>\n",
       "    .dataframe tbody tr th:only-of-type {\n",
       "        vertical-align: middle;\n",
       "    }\n",
       "\n",
       "    .dataframe tbody tr th {\n",
       "        vertical-align: top;\n",
       "    }\n",
       "\n",
       "    .dataframe thead th {\n",
       "        text-align: right;\n",
       "    }\n",
       "</style>\n",
       "<table border=\"1\" class=\"dataframe\">\n",
       "  <thead>\n",
       "    <tr style=\"text-align: right;\">\n",
       "      <th></th>\n",
       "      <th>0</th>\n",
       "      <th>1</th>\n",
       "      <th>2</th>\n",
       "    </tr>\n",
       "  </thead>\n",
       "  <tbody>\n",
       "    <tr>\n",
       "      <th>Convertible Arbitrage</th>\n",
       "      <td>0.005508</td>\n",
       "      <td>0.0065</td>\n",
       "      <td>False</td>\n",
       "    </tr>\n",
       "    <tr>\n",
       "      <th>CTA Global</th>\n",
       "      <td>0.004074</td>\n",
       "      <td>0.0014</td>\n",
       "      <td>True</td>\n",
       "    </tr>\n",
       "    <tr>\n",
       "      <th>Distressed Securities</th>\n",
       "      <td>0.006946</td>\n",
       "      <td>0.0089</td>\n",
       "      <td>False</td>\n",
       "    </tr>\n",
       "    <tr>\n",
       "      <th>Emerging Markets</th>\n",
       "      <td>0.006253</td>\n",
       "      <td>0.0096</td>\n",
       "      <td>False</td>\n",
       "    </tr>\n",
       "    <tr>\n",
       "      <th>Equity Market Neutral</th>\n",
       "      <td>0.004498</td>\n",
       "      <td>0.0051</td>\n",
       "      <td>False</td>\n",
       "    </tr>\n",
       "    <tr>\n",
       "      <th>Event Driven</th>\n",
       "      <td>0.006344</td>\n",
       "      <td>0.0084</td>\n",
       "      <td>False</td>\n",
       "    </tr>\n",
       "    <tr>\n",
       "      <th>Fixed Income Arbitrage</th>\n",
       "      <td>0.004365</td>\n",
       "      <td>0.0055</td>\n",
       "      <td>False</td>\n",
       "    </tr>\n",
       "    <tr>\n",
       "      <th>Global Macro</th>\n",
       "      <td>0.005403</td>\n",
       "      <td>0.0038</td>\n",
       "      <td>True</td>\n",
       "    </tr>\n",
       "    <tr>\n",
       "      <th>Long/Short Equity</th>\n",
       "      <td>0.006331</td>\n",
       "      <td>0.0079</td>\n",
       "      <td>False</td>\n",
       "    </tr>\n",
       "    <tr>\n",
       "      <th>Merger Arbitrage</th>\n",
       "      <td>0.005356</td>\n",
       "      <td>0.0060</td>\n",
       "      <td>False</td>\n",
       "    </tr>\n",
       "    <tr>\n",
       "      <th>Relative Value</th>\n",
       "      <td>0.005792</td>\n",
       "      <td>0.0067</td>\n",
       "      <td>False</td>\n",
       "    </tr>\n",
       "    <tr>\n",
       "      <th>Short Selling</th>\n",
       "      <td>-0.001701</td>\n",
       "      <td>-0.0053</td>\n",
       "      <td>True</td>\n",
       "    </tr>\n",
       "    <tr>\n",
       "      <th>Funds Of Funds</th>\n",
       "      <td>0.004262</td>\n",
       "      <td>0.0052</td>\n",
       "      <td>False</td>\n",
       "    </tr>\n",
       "  </tbody>\n",
       "</table>\n",
       "</div>"
      ],
      "text/plain": [
       "                               0       1      2\n",
       "Convertible Arbitrage   0.005508  0.0065  False\n",
       "CTA Global              0.004074  0.0014   True\n",
       "Distressed Securities   0.006946  0.0089  False\n",
       "Emerging Markets        0.006253  0.0096  False\n",
       "Equity Market Neutral   0.004498  0.0051  False\n",
       "Event Driven            0.006344  0.0084  False\n",
       "Fixed Income Arbitrage  0.004365  0.0055  False\n",
       "Global Macro            0.005403  0.0038   True\n",
       "Long/Short Equity       0.006331  0.0079  False\n",
       "Merger Arbitrage        0.005356  0.0060  False\n",
       "Relative Value          0.005792  0.0067  False\n",
       "Short Selling          -0.001701 -0.0053   True\n",
       "Funds Of Funds          0.004262  0.0052  False"
      ]
     },
     "execution_count": 7,
     "metadata": {},
     "output_type": "execute_result"
    }
   ],
   "source": [
    "pd.concat([hfi.mean(), hfi.median(), hfi.mean() > hfi.median()], axis = 'columns')"
   ]
  },
  {
   "cell_type": "code",
   "execution_count": 12,
   "metadata": {},
   "outputs": [
    {
     "data": {
      "text/plain": [
       "Convertible Arbitrage    -2.639592\n",
       "CTA Global                0.173699\n",
       "Distressed Securities    -1.300842\n",
       "Emerging Markets         -1.167067\n",
       "Equity Market Neutral    -2.124435\n",
       "Event Driven             -1.409154\n",
       "Fixed Income Arbitrage   -3.940320\n",
       "Global Macro              0.982922\n",
       "Long/Short Equity        -0.390227\n",
       "Merger Arbitrage         -1.320083\n",
       "Relative Value           -1.815470\n",
       "Short Selling             0.767975\n",
       "Funds Of Funds           -0.361783\n",
       "dtype: float64"
      ]
     },
     "execution_count": 12,
     "metadata": {},
     "output_type": "execute_result"
    }
   ],
   "source": [
    "erk.skewness(hfi)"
   ]
  },
  {
   "cell_type": "code",
   "execution_count": 13,
   "metadata": {},
   "outputs": [
    {
     "data": {
      "text/plain": [
       "array([-2.63959223,  0.17369864, -1.30084204, -1.16706749, -2.12443538,\n",
       "       -1.40915356, -3.94032029,  0.98292188, -0.39022677, -1.32008333,\n",
       "       -1.81546975,  0.76797484, -0.36178308])"
      ]
     },
     "execution_count": 13,
     "metadata": {},
     "output_type": "execute_result"
    }
   ],
   "source": [
    "scipy.stats.skew(hfi)"
   ]
  },
  {
   "cell_type": "code",
   "execution_count": 14,
   "metadata": {},
   "outputs": [
    {
     "data": {
      "text/plain": [
       "(263, 13)"
      ]
     },
     "execution_count": 14,
     "metadata": {},
     "output_type": "execute_result"
    }
   ],
   "source": [
    "hfi.shape"
   ]
  },
  {
   "cell_type": "code",
   "execution_count": 26,
   "metadata": {},
   "outputs": [],
   "source": [
    "normal_returns = np.random.normal(0, .15, size=(26300, 1))"
   ]
  },
  {
   "cell_type": "code",
   "execution_count": 27,
   "metadata": {},
   "outputs": [
    {
     "data": {
      "text/plain": [
       "0.014369566323153952"
      ]
     },
     "execution_count": 27,
     "metadata": {},
     "output_type": "execute_result"
    }
   ],
   "source": [
    "erk.skewness(normal_returns)"
   ]
  },
  {
   "attachments": {},
   "cell_type": "markdown",
   "metadata": {},
   "source": [
    "### Kurtosis"
   ]
  },
  {
   "cell_type": "code",
   "execution_count": 28,
   "metadata": {},
   "outputs": [
    {
     "data": {
      "text/plain": [
       "2.9838682511555517"
      ]
     },
     "execution_count": 28,
     "metadata": {},
     "output_type": "execute_result"
    }
   ],
   "source": [
    "erk.kurtosis(normal_returns)"
   ]
  },
  {
   "cell_type": "code",
   "execution_count": 29,
   "metadata": {},
   "outputs": [
    {
     "data": {
      "text/plain": [
       "Convertible Arbitrage     23.280834\n",
       "CTA Global                 2.952960\n",
       "Distressed Securities      7.889983\n",
       "Emerging Markets           9.250788\n",
       "Equity Market Neutral     17.218555\n",
       "Event Driven               8.035828\n",
       "Fixed Income Arbitrage    29.842199\n",
       "Global Macro               5.741679\n",
       "Long/Short Equity          4.523893\n",
       "Merger Arbitrage           8.738950\n",
       "Relative Value            12.121208\n",
       "Short Selling              6.117772\n",
       "Funds Of Funds             7.070153\n",
       "dtype: float64"
      ]
     },
     "execution_count": 29,
     "metadata": {},
     "output_type": "execute_result"
    }
   ],
   "source": [
    "erk.kurtosis(hfi)"
   ]
  },
  {
   "cell_type": "code",
   "execution_count": 31,
   "metadata": {},
   "outputs": [
    {
     "data": {
      "text/plain": [
       "array([-0.01613175])"
      ]
     },
     "execution_count": 31,
     "metadata": {},
     "output_type": "execute_result"
    }
   ],
   "source": [
    "scipy.stats.kurtosis(normal_returns) # scipy.stats.kurtosis() returns the excess kurtosis(subtracted from 3)"
   ]
  },
  {
   "cell_type": "code",
   "execution_count": 32,
   "metadata": {},
   "outputs": [
    {
     "data": {
      "text/plain": [
       "array([20.28083446, -0.04703963,  4.88998336,  6.25078841, 14.21855526,\n",
       "        5.03582817, 26.84219928,  2.74167945,  1.52389258,  5.73894979,\n",
       "        9.12120787,  3.11777175,  4.07015278])"
      ]
     },
     "execution_count": 32,
     "metadata": {},
     "output_type": "execute_result"
    }
   ],
   "source": [
    "scipy.stats.kurtosis(hfi)"
   ]
  },
  {
   "cell_type": "code",
   "execution_count": 33,
   "metadata": {},
   "outputs": [
    {
     "data": {
      "text/plain": [
       "SignificanceResult(statistic=1.1902624598715095, pvalue=0.5514901890968495)"
      ]
     },
     "execution_count": 33,
     "metadata": {},
     "output_type": "execute_result"
    }
   ],
   "source": [
    "scipy.stats.jarque_bera(normal_returns)"
   ]
  },
  {
   "cell_type": "code",
   "execution_count": 34,
   "metadata": {},
   "outputs": [
    {
     "data": {
      "text/plain": [
       "SignificanceResult(statistic=25656.585999171337, pvalue=0.0)"
      ]
     },
     "execution_count": 34,
     "metadata": {},
     "output_type": "execute_result"
    }
   ],
   "source": [
    "scipy.stats.jarque_bera(hfi)"
   ]
  },
  {
   "cell_type": "code",
   "execution_count": 35,
   "metadata": {},
   "outputs": [
    {
     "name": "stdout",
     "output_type": "stream",
     "text": [
      "Convertible Arbitrage\n",
      "CTA Global\n",
      "Distressed Securities\n",
      "Emerging Markets\n",
      "Equity Market Neutral\n",
      "Event Driven\n",
      "Fixed Income Arbitrage\n",
      "Global Macro\n",
      "Long/Short Equity\n",
      "Merger Arbitrage\n",
      "Relative Value\n",
      "Short Selling\n",
      "Funds Of Funds\n"
     ]
    }
   ],
   "source": [
    "for cols in hfi:\n",
    "    print(cols)"
   ]
  },
  {
   "cell_type": "code",
   "execution_count": 38,
   "metadata": {},
   "outputs": [
    {
     "data": {
      "text/plain": [
       "True"
      ]
     },
     "execution_count": 38,
     "metadata": {},
     "output_type": "execute_result"
    }
   ],
   "source": [
    "erk.is_normal(normal_returns, level=0.01)"
   ]
  },
  {
   "cell_type": "code",
   "execution_count": 40,
   "metadata": {},
   "outputs": [
    {
     "data": {
      "text/plain": [
       "False"
      ]
     },
     "execution_count": 40,
     "metadata": {},
     "output_type": "execute_result"
    }
   ],
   "source": [
    "erk.is_normal(hfi)"
   ]
  },
  {
   "cell_type": "code",
   "execution_count": 43,
   "metadata": {},
   "outputs": [
    {
     "data": {
      "text/plain": [
       "Convertible Arbitrage     False\n",
       "CTA Global                 True\n",
       "Distressed Securities     False\n",
       "Emerging Markets          False\n",
       "Equity Market Neutral     False\n",
       "Event Driven              False\n",
       "Fixed Income Arbitrage    False\n",
       "Global Macro              False\n",
       "Long/Short Equity         False\n",
       "Merger Arbitrage          False\n",
       "Relative Value            False\n",
       "Short Selling             False\n",
       "Funds Of Funds            False\n",
       "dtype: bool"
      ]
     },
     "execution_count": 43,
     "metadata": {},
     "output_type": "execute_result"
    }
   ],
   "source": [
    "hfi.aggregate(erk.is_normal)  # Aggregate using one or more operations over the specified axis.\n"
   ]
  },
  {
   "cell_type": "code",
   "execution_count": 44,
   "metadata": {},
   "outputs": [
    {
     "data": {
      "text/html": [
       "<div>\n",
       "<style scoped>\n",
       "    .dataframe tbody tr th:only-of-type {\n",
       "        vertical-align: middle;\n",
       "    }\n",
       "\n",
       "    .dataframe tbody tr th {\n",
       "        vertical-align: top;\n",
       "    }\n",
       "\n",
       "    .dataframe thead th {\n",
       "        text-align: right;\n",
       "    }\n",
       "</style>\n",
       "<table border=\"1\" class=\"dataframe\">\n",
       "  <thead>\n",
       "    <tr style=\"text-align: right;\">\n",
       "      <th></th>\n",
       "      <th>SmallCap</th>\n",
       "      <th>LargeCap</th>\n",
       "    </tr>\n",
       "  </thead>\n",
       "  <tbody>\n",
       "    <tr>\n",
       "      <th>1926-07</th>\n",
       "      <td>-0.0145</td>\n",
       "      <td>0.0329</td>\n",
       "    </tr>\n",
       "    <tr>\n",
       "      <th>1926-08</th>\n",
       "      <td>0.0512</td>\n",
       "      <td>0.0370</td>\n",
       "    </tr>\n",
       "    <tr>\n",
       "      <th>1926-09</th>\n",
       "      <td>0.0093</td>\n",
       "      <td>0.0067</td>\n",
       "    </tr>\n",
       "    <tr>\n",
       "      <th>1926-10</th>\n",
       "      <td>-0.0484</td>\n",
       "      <td>-0.0243</td>\n",
       "    </tr>\n",
       "    <tr>\n",
       "      <th>1926-11</th>\n",
       "      <td>-0.0078</td>\n",
       "      <td>0.0270</td>\n",
       "    </tr>\n",
       "  </tbody>\n",
       "</table>\n",
       "</div>"
      ],
      "text/plain": [
       "         SmallCap  LargeCap\n",
       "1926-07   -0.0145    0.0329\n",
       "1926-08    0.0512    0.0370\n",
       "1926-09    0.0093    0.0067\n",
       "1926-10   -0.0484   -0.0243\n",
       "1926-11   -0.0078    0.0270"
      ]
     },
     "execution_count": 44,
     "metadata": {},
     "output_type": "execute_result"
    }
   ],
   "source": [
    "ffme = erk.get_ffme_returns()\n",
    "ffme.head()"
   ]
  },
  {
   "cell_type": "code",
   "execution_count": 45,
   "metadata": {},
   "outputs": [
    {
     "data": {
      "text/plain": [
       "SmallCap    4.410739\n",
       "LargeCap    0.233445\n",
       "dtype: float64"
      ]
     },
     "execution_count": 45,
     "metadata": {},
     "output_type": "execute_result"
    }
   ],
   "source": [
    "erk.skewness(ffme)"
   ]
  },
  {
   "cell_type": "code",
   "execution_count": 46,
   "metadata": {},
   "outputs": [
    {
     "data": {
      "text/plain": [
       "SmallCap    46.845008\n",
       "LargeCap    10.694654\n",
       "dtype: float64"
      ]
     },
     "execution_count": 46,
     "metadata": {},
     "output_type": "execute_result"
    }
   ],
   "source": [
    "erk.kurtosis(ffme)"
   ]
  },
  {
   "cell_type": "code",
   "execution_count": 48,
   "metadata": {},
   "outputs": [
    {
     "data": {
      "text/plain": [
       "SmallCap    False\n",
       "LargeCap    False\n",
       "dtype: bool"
      ]
     },
     "execution_count": 48,
     "metadata": {},
     "output_type": "execute_result"
    }
   ],
   "source": [
    "ffme.aggregate(erk.is_normal)"
   ]
  },
  {
   "cell_type": "code",
   "execution_count": null,
   "metadata": {},
   "outputs": [],
   "source": []
  }
 ],
 "metadata": {
  "kernelspec": {
   "display_name": "Python 3",
   "language": "python",
   "name": "python3"
  },
  "language_info": {
   "codemirror_mode": {
    "name": "ipython",
    "version": 3
   },
   "file_extension": ".py",
   "mimetype": "text/x-python",
   "name": "python",
   "nbconvert_exporter": "python",
   "pygments_lexer": "ipython3",
   "version": "3.11.2"
  },
  "orig_nbformat": 4
 },
 "nbformat": 4,
 "nbformat_minor": 2
}
