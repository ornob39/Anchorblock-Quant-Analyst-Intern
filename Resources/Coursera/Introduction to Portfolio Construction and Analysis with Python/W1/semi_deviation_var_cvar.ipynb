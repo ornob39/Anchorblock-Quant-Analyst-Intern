{
 "cells": [
  {
   "attachments": {},
   "cell_type": "markdown",
   "metadata": {},
   "source": [
    "### Downside Measures"
   ]
  },
  {
   "cell_type": "code",
   "execution_count": 1,
   "metadata": {},
   "outputs": [],
   "source": [
    "import numpy as np\n",
    "import pandas as pd\n",
    "import matplotlib.pyplot as plt\n",
    "import edhec_risk_kit as erk\n",
    "import scipy.stats\n",
    "%matplotlib inline\n",
    "%load_ext autoreload\n",
    "%autoreload 2"
   ]
  },
  {
   "cell_type": "code",
   "execution_count": 21,
   "metadata": {},
   "outputs": [
    {
     "name": "stderr",
     "output_type": "stream",
     "text": [
      "c:\\Users\\ornob\\OneDrive\\Workplace\\Anchorblock Quant Analyst Intern\\Resources\\Coursera\\Introduction to Portfolio Construction and Analysis with Python\\W1\\edhec_risk_kit.py:41: UserWarning: Parsing dates in DD/MM/YYYY format when dayfirst=False (the default) was specified. This may lead to inconsistently parsed dates! Specify a format to ensure consistent parsing.\n",
      "  hfi = pd.read_csv(\n"
     ]
    }
   ],
   "source": [
    "hfi = erk.get_hfi_returns()"
   ]
  },
  {
   "attachments": {},
   "cell_type": "markdown",
   "metadata": {},
   "source": [
    "#### Semideviation"
   ]
  },
  {
   "cell_type": "code",
   "execution_count": 22,
   "metadata": {},
   "outputs": [
    {
     "data": {
      "text/html": [
       "<div>\n",
       "<style scoped>\n",
       "    .dataframe tbody tr th:only-of-type {\n",
       "        vertical-align: middle;\n",
       "    }\n",
       "\n",
       "    .dataframe tbody tr th {\n",
       "        vertical-align: top;\n",
       "    }\n",
       "\n",
       "    .dataframe thead th {\n",
       "        text-align: right;\n",
       "    }\n",
       "</style>\n",
       "<table border=\"1\" class=\"dataframe\">\n",
       "  <thead>\n",
       "    <tr style=\"text-align: right;\">\n",
       "      <th></th>\n",
       "      <th>Convertible Arbitrage</th>\n",
       "      <th>CTA Global</th>\n",
       "      <th>Distressed Securities</th>\n",
       "      <th>Emerging Markets</th>\n",
       "      <th>Equity Market Neutral</th>\n",
       "      <th>Event Driven</th>\n",
       "      <th>Fixed Income Arbitrage</th>\n",
       "      <th>Global Macro</th>\n",
       "      <th>Long/Short Equity</th>\n",
       "      <th>Merger Arbitrage</th>\n",
       "      <th>Relative Value</th>\n",
       "      <th>Short Selling</th>\n",
       "      <th>Funds Of Funds</th>\n",
       "    </tr>\n",
       "    <tr>\n",
       "      <th>date</th>\n",
       "      <th></th>\n",
       "      <th></th>\n",
       "      <th></th>\n",
       "      <th></th>\n",
       "      <th></th>\n",
       "      <th></th>\n",
       "      <th></th>\n",
       "      <th></th>\n",
       "      <th></th>\n",
       "      <th></th>\n",
       "      <th></th>\n",
       "      <th></th>\n",
       "      <th></th>\n",
       "    </tr>\n",
       "  </thead>\n",
       "  <tbody>\n",
       "    <tr>\n",
       "      <th>1997-01</th>\n",
       "      <td>0.0119</td>\n",
       "      <td>0.0393</td>\n",
       "      <td>0.0178</td>\n",
       "      <td>0.0791</td>\n",
       "      <td>0.0189</td>\n",
       "      <td>0.0213</td>\n",
       "      <td>0.0191</td>\n",
       "      <td>0.0573</td>\n",
       "      <td>0.0281</td>\n",
       "      <td>0.0150</td>\n",
       "      <td>0.0180</td>\n",
       "      <td>-0.0166</td>\n",
       "      <td>0.0317</td>\n",
       "    </tr>\n",
       "    <tr>\n",
       "      <th>1997-02</th>\n",
       "      <td>0.0123</td>\n",
       "      <td>0.0298</td>\n",
       "      <td>0.0122</td>\n",
       "      <td>0.0525</td>\n",
       "      <td>0.0101</td>\n",
       "      <td>0.0084</td>\n",
       "      <td>0.0122</td>\n",
       "      <td>0.0175</td>\n",
       "      <td>-0.0006</td>\n",
       "      <td>0.0034</td>\n",
       "      <td>0.0118</td>\n",
       "      <td>0.0426</td>\n",
       "      <td>0.0106</td>\n",
       "    </tr>\n",
       "    <tr>\n",
       "      <th>1997-03</th>\n",
       "      <td>0.0078</td>\n",
       "      <td>-0.0021</td>\n",
       "      <td>-0.0012</td>\n",
       "      <td>-0.0120</td>\n",
       "      <td>0.0016</td>\n",
       "      <td>-0.0023</td>\n",
       "      <td>0.0109</td>\n",
       "      <td>-0.0119</td>\n",
       "      <td>-0.0084</td>\n",
       "      <td>0.0060</td>\n",
       "      <td>0.0010</td>\n",
       "      <td>0.0778</td>\n",
       "      <td>-0.0077</td>\n",
       "    </tr>\n",
       "    <tr>\n",
       "      <th>1997-04</th>\n",
       "      <td>0.0086</td>\n",
       "      <td>-0.0170</td>\n",
       "      <td>0.0030</td>\n",
       "      <td>0.0119</td>\n",
       "      <td>0.0119</td>\n",
       "      <td>-0.0005</td>\n",
       "      <td>0.0130</td>\n",
       "      <td>0.0172</td>\n",
       "      <td>0.0084</td>\n",
       "      <td>-0.0001</td>\n",
       "      <td>0.0122</td>\n",
       "      <td>-0.0129</td>\n",
       "      <td>0.0009</td>\n",
       "    </tr>\n",
       "    <tr>\n",
       "      <th>1997-05</th>\n",
       "      <td>0.0156</td>\n",
       "      <td>-0.0015</td>\n",
       "      <td>0.0233</td>\n",
       "      <td>0.0315</td>\n",
       "      <td>0.0189</td>\n",
       "      <td>0.0346</td>\n",
       "      <td>0.0118</td>\n",
       "      <td>0.0108</td>\n",
       "      <td>0.0394</td>\n",
       "      <td>0.0197</td>\n",
       "      <td>0.0173</td>\n",
       "      <td>-0.0737</td>\n",
       "      <td>0.0275</td>\n",
       "    </tr>\n",
       "  </tbody>\n",
       "</table>\n",
       "</div>"
      ],
      "text/plain": [
       "         Convertible Arbitrage  CTA Global  Distressed Securities  \\\n",
       "date                                                                \n",
       "1997-01                 0.0119      0.0393                 0.0178   \n",
       "1997-02                 0.0123      0.0298                 0.0122   \n",
       "1997-03                 0.0078     -0.0021                -0.0012   \n",
       "1997-04                 0.0086     -0.0170                 0.0030   \n",
       "1997-05                 0.0156     -0.0015                 0.0233   \n",
       "\n",
       "         Emerging Markets  Equity Market Neutral  Event Driven  \\\n",
       "date                                                             \n",
       "1997-01            0.0791                 0.0189        0.0213   \n",
       "1997-02            0.0525                 0.0101        0.0084   \n",
       "1997-03           -0.0120                 0.0016       -0.0023   \n",
       "1997-04            0.0119                 0.0119       -0.0005   \n",
       "1997-05            0.0315                 0.0189        0.0346   \n",
       "\n",
       "         Fixed Income Arbitrage  Global Macro  Long/Short Equity  \\\n",
       "date                                                               \n",
       "1997-01                  0.0191        0.0573             0.0281   \n",
       "1997-02                  0.0122        0.0175            -0.0006   \n",
       "1997-03                  0.0109       -0.0119            -0.0084   \n",
       "1997-04                  0.0130        0.0172             0.0084   \n",
       "1997-05                  0.0118        0.0108             0.0394   \n",
       "\n",
       "         Merger Arbitrage  Relative Value  Short Selling  Funds Of Funds  \n",
       "date                                                                      \n",
       "1997-01            0.0150          0.0180        -0.0166          0.0317  \n",
       "1997-02            0.0034          0.0118         0.0426          0.0106  \n",
       "1997-03            0.0060          0.0010         0.0778         -0.0077  \n",
       "1997-04           -0.0001          0.0122        -0.0129          0.0009  \n",
       "1997-05            0.0197          0.0173        -0.0737          0.0275  "
      ]
     },
     "execution_count": 22,
     "metadata": {},
     "output_type": "execute_result"
    }
   ],
   "source": [
    "hfi.head()"
   ]
  },
  {
   "cell_type": "code",
   "execution_count": 23,
   "metadata": {},
   "outputs": [
    {
     "data": {
      "text/plain": [
       "Convertible Arbitrage     0.016536\n",
       "CTA Global                0.023290\n",
       "Distressed Securities     0.017009\n",
       "Emerging Markets          0.032476\n",
       "Equity Market Neutral     0.008115\n",
       "Event Driven              0.016712\n",
       "Fixed Income Arbitrage    0.011517\n",
       "Global Macro              0.014694\n",
       "Long/Short Equity         0.019897\n",
       "Merger Arbitrage          0.009600\n",
       "Relative Value            0.011462\n",
       "Short Selling             0.047655\n",
       "Funds Of Funds            0.015536\n",
       "dtype: float64"
      ]
     },
     "execution_count": 23,
     "metadata": {},
     "output_type": "execute_result"
    }
   ],
   "source": [
    "hfi.std(ddof=0)"
   ]
  },
  {
   "cell_type": "code",
   "execution_count": 24,
   "metadata": {},
   "outputs": [
    {
     "data": {
      "text/plain": [
       "Convertible Arbitrage     0.019540\n",
       "CTA Global                0.012443\n",
       "Distressed Securities     0.015185\n",
       "Emerging Markets          0.028039\n",
       "Equity Market Neutral     0.009566\n",
       "Event Driven              0.015429\n",
       "Fixed Income Arbitrage    0.017763\n",
       "Global Macro              0.006579\n",
       "Long/Short Equity         0.014051\n",
       "Merger Arbitrage          0.008875\n",
       "Relative Value            0.012244\n",
       "Short Selling             0.027283\n",
       "Funds Of Funds            0.012122\n",
       "dtype: float64"
      ]
     },
     "execution_count": 24,
     "metadata": {},
     "output_type": "execute_result"
    }
   ],
   "source": [
    "hfi[hfi < 0].std(ddof = 0)"
   ]
  },
  {
   "cell_type": "code",
   "execution_count": 26,
   "metadata": {},
   "outputs": [
    {
     "data": {
      "text/plain": [
       "Convertible Arbitrage     0.019800\n",
       "CTA Global                0.022163\n",
       "Distressed Securities     0.020214\n",
       "Emerging Markets          0.037962\n",
       "Equity Market Neutral     0.009568\n",
       "Event Driven              0.019756\n",
       "Fixed Income Arbitrage    0.015972\n",
       "Global Macro              0.012588\n",
       "Long/Short Equity         0.021899\n",
       "Merger Arbitrage          0.011257\n",
       "Relative Value            0.013649\n",
       "Short Selling             0.042020\n",
       "Funds Of Funds            0.016471\n",
       "dtype: float64"
      ]
     },
     "execution_count": 26,
     "metadata": {},
     "output_type": "execute_result"
    }
   ],
   "source": [
    "erk.semideviation(hfi)"
   ]
  },
  {
   "attachments": {},
   "cell_type": "markdown",
   "metadata": {},
   "source": [
    "#### VaR and CVar\n",
    "\n",
    "Value at Risk\n",
    "- Historic VaR\n",
    "- Parametric VaR - Gaussian\n",
    "- Modified Cornish-Fisher VaR"
   ]
  },
  {
   "cell_type": "code",
   "execution_count": 40,
   "metadata": {},
   "outputs": [
    {
     "data": {
      "text/plain": [
       "array([-0.080752, -0.053959, -0.069533, -0.122281, -0.026206, -0.062638,\n",
       "       -0.070955, -0.029129, -0.060513, -0.027321, -0.047693, -0.120738,\n",
       "       -0.061104])"
      ]
     },
     "execution_count": 40,
     "metadata": {},
     "output_type": "execute_result"
    }
   ],
   "source": [
    "np.percentile(hfi, .5, axis=0)   # 5th percentile of each column"
   ]
  },
  {
   "cell_type": "code",
   "execution_count": 41,
   "metadata": {},
   "outputs": [],
   "source": [
    "def var_historic(r, level = 5):\n",
    "    \"\"\" VaR Historic \"\"\"\n",
    "    if isinstance(r, pd.DataFrame):\n",
    "        return r.aggregate(var_historic, level = level)\n",
    "    elif isinstance(r, pd.Series):\n",
    "        return -np.percentile(r, level)\n",
    "    else:\n",
    "        raise TypeError(\"Expected r to be Series or DataFrame\")"
   ]
  },
  {
   "cell_type": "code",
   "execution_count": 44,
   "metadata": {},
   "outputs": [
    {
     "data": {
      "text/plain": [
       "Convertible Arbitrage     0.01576\n",
       "CTA Global                0.03169\n",
       "Distressed Securities     0.01966\n",
       "Emerging Markets          0.04247\n",
       "Equity Market Neutral     0.00814\n",
       "Event Driven              0.02535\n",
       "Fixed Income Arbitrage    0.00787\n",
       "Global Macro              0.01499\n",
       "Long/Short Equity         0.02598\n",
       "Merger Arbitrage          0.01047\n",
       "Relative Value            0.01174\n",
       "Short Selling             0.06783\n",
       "Funds Of Funds            0.02047\n",
       "dtype: float64"
      ]
     },
     "execution_count": 44,
     "metadata": {},
     "output_type": "execute_result"
    }
   ],
   "source": [
    "var_historic(hfi, level = 5)"
   ]
  },
  {
   "cell_type": "code",
   "execution_count": 46,
   "metadata": {},
   "outputs": [
    {
     "data": {
      "text/plain": [
       "Convertible Arbitrage     0.01576\n",
       "CTA Global                0.03169\n",
       "Distressed Securities     0.01966\n",
       "Emerging Markets          0.04247\n",
       "Equity Market Neutral     0.00814\n",
       "Event Driven              0.02535\n",
       "Fixed Income Arbitrage    0.00787\n",
       "Global Macro              0.01499\n",
       "Long/Short Equity         0.02598\n",
       "Merger Arbitrage          0.01047\n",
       "Relative Value            0.01174\n",
       "Short Selling             0.06783\n",
       "Funds Of Funds            0.02047\n",
       "dtype: float64"
      ]
     },
     "execution_count": 46,
     "metadata": {},
     "output_type": "execute_result"
    }
   ],
   "source": [
    "erk.var_historic(hfi)"
   ]
  },
  {
   "cell_type": "code",
   "execution_count": 11,
   "metadata": {},
   "outputs": [],
   "source": [
    "from scipy.stats import norm"
   ]
  },
  {
   "cell_type": "code",
   "execution_count": 31,
   "metadata": {},
   "outputs": [
    {
     "data": {
      "text/plain": [
       "-1.6448536269514729"
      ]
     },
     "execution_count": 31,
     "metadata": {},
     "output_type": "execute_result"
    }
   ],
   "source": [
    "z = norm.ppf(.05)\n",
    "z"
   ]
  },
  {
   "cell_type": "code",
   "execution_count": 32,
   "metadata": {},
   "outputs": [
    {
     "data": {
      "text/plain": [
       "Convertible Arbitrage     0.021691\n",
       "CTA Global                0.034235\n",
       "Distressed Securities     0.021032\n",
       "Emerging Markets          0.047164\n",
       "Equity Market Neutral     0.008850\n",
       "Event Driven              0.021144\n",
       "Fixed Income Arbitrage    0.014579\n",
       "Global Macro              0.018766\n",
       "Long/Short Equity         0.026397\n",
       "Merger Arbitrage          0.010435\n",
       "Relative Value            0.013061\n",
       "Short Selling             0.080086\n",
       "Funds Of Funds            0.021292\n",
       "dtype: float64"
      ]
     },
     "execution_count": 32,
     "metadata": {},
     "output_type": "execute_result"
    }
   ],
   "source": [
    "-(hfi.mean() + z * hfi.std(ddof = 0))"
   ]
  },
  {
   "cell_type": "code",
   "execution_count": 33,
   "metadata": {},
   "outputs": [
    {
     "data": {
      "text/plain": [
       "Convertible Arbitrage     0.021691\n",
       "CTA Global                0.034235\n",
       "Distressed Securities     0.021032\n",
       "Emerging Markets          0.047164\n",
       "Equity Market Neutral     0.008850\n",
       "Event Driven              0.021144\n",
       "Fixed Income Arbitrage    0.014579\n",
       "Global Macro              0.018766\n",
       "Long/Short Equity         0.026397\n",
       "Merger Arbitrage          0.010435\n",
       "Relative Value            0.013061\n",
       "Short Selling             0.080086\n",
       "Funds Of Funds            0.021292\n",
       "dtype: float64"
      ]
     },
     "execution_count": 33,
     "metadata": {},
     "output_type": "execute_result"
    }
   ],
   "source": [
    "erk.var_gaussian(hfi,level=5)"
   ]
  },
  {
   "cell_type": "code",
   "execution_count": 34,
   "metadata": {},
   "outputs": [],
   "source": [
    "var_list = [erk.var_gaussian(hfi), erk.var_gaussian(hfi, modified = True), erk.var_historic(hfi)]"
   ]
  },
  {
   "cell_type": "code",
   "execution_count": 35,
   "metadata": {},
   "outputs": [],
   "source": [
    "comparison = pd.concat(var_list, axis = 1)"
   ]
  },
  {
   "cell_type": "code",
   "execution_count": 36,
   "metadata": {},
   "outputs": [],
   "source": [
    "comparison.columns = [\"Gaussian\", \"Cornish-Fisher\", \"Historic\"]"
   ]
  },
  {
   "cell_type": "code",
   "execution_count": 37,
   "metadata": {},
   "outputs": [
    {
     "data": {
      "text/plain": [
       "<Axes: title={'center': 'EDHEC Hedge Fund Indices: VaR'}>"
      ]
     },
     "execution_count": 37,
     "metadata": {},
     "output_type": "execute_result"
    },
    {
     "data": {
      "image/png": "[encoded data removed]",
      "text/plain": [
       "<Figure size 640x480 with 1 Axes>"
      ]
     },
     "metadata": {},
     "output_type": "display_data"
    }
   ],
   "source": [
    "comparison.plot.bar(title = \"EDHEC Hedge Fund Indices: VaR\")"
   ]
  },
  {
   "attachments": {},
   "cell_type": "markdown",
   "metadata": {},
   "source": [
    "### CVaR"
   ]
  },
  {
   "cell_type": "code",
   "execution_count": 52,
   "metadata": {},
   "outputs": [
    {
     "data": {
      "text/plain": [
       "Convertible Arbitrage     0.036550\n",
       "CTA Global                0.041264\n",
       "Distressed Securities     0.036429\n",
       "Emerging Markets          0.072364\n",
       "Equity Market Neutral     0.016879\n",
       "Event Driven              0.038336\n",
       "Fixed Income Arbitrage    0.028257\n",
       "Global Macro              0.020629\n",
       "Long/Short Equity         0.041943\n",
       "Merger Arbitrage          0.019143\n",
       "Relative Value            0.024650\n",
       "Short Selling             0.096821\n",
       "Funds Of Funds            0.033207\n",
       "dtype: float64"
      ]
     },
     "execution_count": 52,
     "metadata": {},
     "output_type": "execute_result"
    }
   ],
   "source": [
    "erk.cvar_historic(hfi)"
   ]
  },
  {
   "cell_type": "code",
   "execution_count": null,
   "metadata": {},
   "outputs": [],
   "source": []
  }
 ],
 "metadata": {
  "kernelspec": {
   "display_name": "Python 3",
   "language": "python",
   "name": "python3"
  },
  "language_info": {
   "codemirror_mode": {
    "name": "ipython",
    "version": 3
   },
   "file_extension": ".py",
   "mimetype": "text/x-python",
   "name": "python",
   "nbconvert_exporter": "python",
   "pygments_lexer": "ipython3",
   "version": "3.11.2"
  },
  "orig_nbformat": 4
 },
 "nbformat": 4,
 "nbformat_minor": 2
}
